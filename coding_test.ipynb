{
  "nbformat": 4,
  "nbformat_minor": 0,
  "metadata": {
    "colab": {
      "name": "coding_test.ipynb",
      "provenance": [],
      "collapsed_sections": [],
      "authorship_tag": "ABX9TyN0/jgoK+qyEzW4r4Tmp/zF",
      "include_colab_link": true
    },
    "kernelspec": {
      "name": "python3",
      "display_name": "Python 3"
    },
    "language_info": {
      "name": "python"
    }
  },
  "cells": [
    {
      "cell_type": "markdown",
      "metadata": {
        "id": "view-in-github",
        "colab_type": "text"
      },
      "source": [
        "<a href=\"https://colab.research.google.com/github/Pyeonseohee/coding_test_file/blob/main/coding_test.ipynb\" target=\"_parent\"><img src=\"https://colab.research.google.com/assets/colab-badge.svg\" alt=\"Open In Colab\"/></a>"
      ]
    },
    {
      "cell_type": "markdown",
      "source": [
        "# 이것이 취업을 위한 코딩테스트이다 with Python\n"
      ],
      "metadata": {
        "id": "Pk9F4E43yVV4"
      }
    },
    {
      "cell_type": "markdown",
      "source": [
        "# **Chapter 01**\n",
        "#### **코딩 테스트, 무엇을 어떻게 준비할까?**"
      ],
      "metadata": {
        "id": "Qd4YvuOV-TWs"
      }
    },
    {
      "cell_type": "markdown",
      "source": [
        "- 코딩 테스트 플랫폼: Codeup(코드업), BOJ(백준 온라인 저지), Programmers(프로그래머스), SW Expert Academy(SW 익스퍼트 아카데미)\n",
        "\n",
        "- 온라인 개발 환경: Repl.it(리플릿), Python Tutor(파이썬 튜터-> 소스코드가 실행하는 동안 메모리에 데이터가 어떻게 부여되는지를 시각적으로 보여줌), Online GDB(온라인 GDB-> 디버깅 기능을 제공하는 사이트이므로 C, C++ 사용자가 많이 사용.)"
      ],
      "metadata": {
        "id": "NK9Mt1FGBI_n"
      }
    },
    {
      "cell_type": "markdown",
      "source": [
        "# 복잡도(Complexity)\n",
        ": 알고리즘의 성능을 나타내는 척도. 시간 복잡도와 공간 복잡도로 나뉨.\n",
        "- 시간 복잡도: 특정한 크기의 입력에 대하여 알고리즘이 얼마나 오래 걸리는지를 의미 -> 알고리즘을 위해 필요한 연산의 횟수.\n",
        "- 공간 복잡도: 특정한 크기의 입력에 대하여 알고리즘이 얼마나 많은 메모리를 차지하는지 의미 -> 알고리즘을 위해 필요한 메모리의 양\n",
        "\n",
        "동일한 기능을 수행하는 알고리즘이 있다면 일반적으로 복잡도가 낮을수록 좋은 알고리즘. 둘은 일종의 거래 관계(Trade-off)가 성립.\n",
        "\n",
        "실제로 메모리를 더 많이 사용해 시간을 비약적으로 줄이는 메모이제이션(Memoization) 기법이 있음."
      ],
      "metadata": {
        "id": "qSHPM_YdHMuw"
      }
    },
    {
      "cell_type": "markdown",
      "source": [
        "## 시간복잡도\n",
        "\n",
        "코딩 테스트에서 제한 시간은 '작성한 프로그램이 모든 입력을 받아 이를 처리하고 실행 결과를 출력하는 데까지 걸리는 시간.\n",
        "\n",
        "시간복잡도를 표현할 때는 빅오(Big-O) 표기법을 사용.\n",
        "- 빅오(Big-O) 란?\n",
        ": 가장 빠르게 증가하는 항만을 고려하는 표기법. 다시 말해 함수의 상한만을 나타냄.\n",
        "즉, 가장 영향력이 큰 부분을 고려하는 방법. like 함수 극한 느낌(최고차항)"
      ],
      "metadata": {
        "id": "FX5x_eW5OCIB"
      }
    },
    {
      "cell_type": "code",
      "source": [
        "array = [3, 5, 1, 2, 4] # 5개의 데이터(N = 5)\n",
        "\n",
        "sum = 0 # 합계를 저장할 변수\n",
        "\n",
        "# 변수를 할당할 때 연산이 들어가지만, 데이터의 개수가 많아질수록 그 수는 미미해짐. 따라서 여기서 시간복잡도는 O(N)\n",
        "for i in array:\n",
        "  sum += i\n",
        "\n",
        "print(sum)"
      ],
      "metadata": {
        "colab": {
          "base_uri": "https://localhost:8080/"
        },
        "id": "7QwoJ88sQsZu",
        "outputId": "fe6c89d5-6f8d-40de-977e-5f2044d0a5dd"
      },
      "execution_count": null,
      "outputs": [
        {
          "output_type": "stream",
          "name": "stdout",
          "text": [
            "15\n"
          ]
        }
      ]
    },
    {
      "cell_type": "code",
      "source": [
        "a = 5\n",
        "b = 7\n",
        "print(a + b)\n",
        "# a와 b값을 대입, 출력하는 연산 무시하고 보면 여기서 연산횟수는 1임. 이는 상수연산이므로 시간 복잡도는 O(1)"
      ],
      "metadata": {
        "colab": {
          "base_uri": "https://localhost:8080/"
        },
        "id": "b3B3uieAt8OZ",
        "outputId": "b61b4ad8-be81-4fb2-8546-4c7c1abd4efc"
      },
      "execution_count": null,
      "outputs": [
        {
          "output_type": "stream",
          "name": "stdout",
          "text": [
            "12\n"
          ]
        }
      ]
    },
    {
      "cell_type": "code",
      "source": [
        "array = [3, 5, 1, 2, 4]\n",
        "\n",
        "temp = 0\n",
        "for i in array:\n",
        "  for j in array:\n",
        "    temp = i * j\n",
        "    print(temp)\n",
        "\n",
        "# 이 경우 시간 복잡도는 O(N^2)\n",
        "# 코딩 테스트에서 최악의 경우에 대한 연산 횟수가 가장 중요. 그러므로 최악의 경우의 시간 복잡도 먼저 계산해야함."
      ],
      "metadata": {
        "colab": {
          "base_uri": "https://localhost:8080/"
        },
        "id": "UnTTLMCZuCKx",
        "outputId": "e8b3b9ea-892e-44c3-8ea6-3a0c665945a1"
      },
      "execution_count": null,
      "outputs": [
        {
          "output_type": "stream",
          "name": "stdout",
          "text": [
            "9\n",
            "15\n",
            "3\n",
            "6\n",
            "12\n",
            "15\n",
            "25\n",
            "5\n",
            "10\n",
            "20\n",
            "3\n",
            "5\n",
            "1\n",
            "2\n",
            "4\n",
            "6\n",
            "10\n",
            "2\n",
            "4\n",
            "8\n",
            "12\n",
            "20\n",
            "4\n",
            "8\n",
            "16\n"
          ]
        }
      ]
    },
    {
      "cell_type": "markdown",
      "source": [
        "### 시간 복잡도 표(--------- if N = 1000)\n",
        "\n",
        "- O(1): 상수 시간 \n",
        "- O(logN): 로그 시간\n",
        "- O(N): 선형 시간 ------------- 1,000\n",
        "- O(NlogN): 로그 선형 시간----- 10,000\n",
        "- O(N^2): 이차 시간------------ 1,000,000\n",
        "- O(N^3): 삼차 시간------------ 1,000,000,000\n",
        "- O(2^n): 지수 시간\n",
        "\n",
        "이때 코딩테스트에서 연산 차수가 작은 항들을 배제해서는 안됨. 따라서 빅오 표기법이 항상 절대적인 것만은 아님!\n",
        "\n",
        "연산에는 비교, 사칙, 대입연산자 등이 있음."
      ],
      "metadata": {
        "id": "HyRzUVAKv2uN"
      }
    },
    {
      "cell_type": "markdown",
      "source": [
        "알고리즘 문제를 풀때 꿀팁!\n",
        "문제를 풀기 전 문제의 조건들을 확인하면 얼마나 효율적인 알고리즘을 작성해야하는지 눈치챌 수 있음! -> 데이터의 개수와 시간 제한을 통해 '이 문제는 O(?)의 시간 복잡도를 가지는 알고리즘을 작성해야겠다'와 같은 사고를 이끌어 내야 함!!\n",
        "\n",
        "- 제한 시간이 1초일 때\n",
        "1. N의 범위가 500인 경우: 시간 복잡도가 O(N^3)인 알고리즘 설계하면 풀 수 있음.\n",
        "2. N = 2,000: O(N^2)\n",
        "3. N = 100,000: O(NlogN)\n",
        "4. N = 10,000,000: O(N)\n"
      ],
      "metadata": {
        "id": "ekKVfnT_xfTy"
      }
    },
    {
      "cell_type": "markdown",
      "source": [
        "## 공간 복잡도\n",
        "코딩 테스트에서 보통 메모리 사용량을 128~512MB 정도로 제한. 이 말은 즉슨, 데이터의 개수가 1,000만 단위가 넘어가지 않도록 알고리즘을 설계해야함."
      ],
      "metadata": {
        "id": "aEqJxCFS4FfL"
      }
    },
    {
      "cell_type": "markdown",
      "source": [
        "### 시간과 메모리 측정\n",
        "파이썬에서는 프로그램 수행 시간과 메모리 사용량을 측정할 수 있음."
      ],
      "metadata": {
        "id": "aJcKn-jl4qJO"
      }
    },
    {
      "cell_type": "code",
      "source": [
        "# 수행 시간 측정 소스코드\n",
        "\n",
        "import time\n",
        "start_time = time.time() # 측정 시작\n",
        "\n",
        "end_time = time.time() # 측정 종료\n",
        "print(\"time: \", end_time - start_time) # 수행 시간 출력"
      ],
      "metadata": {
        "colab": {
          "base_uri": "https://localhost:8080/"
        },
        "id": "Hxjs8AkY4ptG",
        "outputId": "11064de8-d4d9-4ccb-956c-fdf1973a5bd2"
      },
      "execution_count": null,
      "outputs": [
        {
          "output_type": "stream",
          "name": "stdout",
          "text": [
            "time:  6.532669067382812e-05\n"
          ]
        }
      ]
    },
    {
      "cell_type": "code",
      "source": [
        "# 선택 정렬과 기본 정렬 라이브러리 수행 시간 비교\n",
        "\n",
        "import time\n",
        "from random import randint\n",
        "array = []\n",
        "\n",
        "# 배열에 10,000개의 정수 삽입.\n",
        "for _ in range(10000):\n",
        "  array.append(randint(1, 100)) # 1부터 100사이의 랜덤한 정수\n",
        "\n",
        "start = time.time()\n",
        "\n",
        "for i in range(len(array)):\n",
        "  min_index = i\n",
        "  for  j in range(i + 1, len(array)):\n",
        "    if array[min_index] > array[j]:\n",
        "      min_index = j\n",
        "    array[min_index], array[i] = array[i], array[min_index]\n",
        "\n",
        "end = time.time()\n",
        "print(\"선택 정렬의 시간 복잡도는\", end - start,\"입니다.\")\n",
        "\n",
        "array = [] # 배열 초기화\n",
        "for _ in range(10000):\n",
        "    array.append(randint(1, 100))\n",
        "\n",
        "start = time.time()\n",
        "\n",
        "array.sort()\n",
        "\n",
        "end = time.time()\n",
        "print(\"기본 정렬 라이브러리의 시간 복잡도는\", end- start, \"입니다.\")"
      ],
      "metadata": {
        "colab": {
          "base_uri": "https://localhost:8080/"
        },
        "id": "ld8qcPnt5EVK",
        "outputId": "4bf7bfb5-3325-41a4-c07a-57c0462cb4ce"
      },
      "execution_count": null,
      "outputs": [
        {
          "output_type": "stream",
          "name": "stdout",
          "text": [
            "선택 정렬의 시간 복잡도는 19.88883924484253 입니다.\n",
            "기본 정렬 라이브러리의 시간 복잡도는 0.0012650489807128906 입니다.\n"
          ]
        }
      ]
    },
    {
      "cell_type": "markdown",
      "source": [
        "# **Chapter 02**\n",
        "\n",
        "####  **16~20년 코딩 테스트 기출 문제 유형 분석**"
      ],
      "metadata": {
        "id": "vQEqcd0h-ahX"
      }
    },
    {
      "cell_type": "markdown",
      "source": [
        "코딩 테스트는 *'문제 해결 능력'* 을 확인하는 시험!\n",
        "\n",
        "주로 기초 알고리즘에 기반하는 문제가 출제됨. 가장 출제 빈도 높은 문제는 그리디, 구현, DFS/BFS를 활용한 탐색 문제.\n",
        "\n",
        "국제 알고리즘 대회: 코드포스, ACM-ICPC 등등...\n",
        "\n",
        "시뮬레이션 프로그램을 직접 개발하는 문제도 출제됨. 이 문제는 알고리즘 역량을 벗어나 REST API, JSON 등의 원리에 대해 이해하고 있어야 해결가능.\n",
        "\n",
        "크롤링이나 데이터 정제, API 개발이 포함된 문제라면 파이썬이 훨씬 유리."
      ],
      "metadata": {
        "id": "gRnLW5qn_JeA"
      }
    },
    {
      "cell_type": "markdown",
      "source": [
        ""
      ],
      "metadata": {
        "id": "8KBQBjCnIXGY"
      }
    },
    {
      "cell_type": "markdown",
      "source": [
        ""
      ],
      "metadata": {
        "id": "99Eeo1Az-uzM"
      }
    },
    {
      "cell_type": "code",
      "source": [
        ""
      ],
      "metadata": {
        "id": "4NbBiX33-I67"
      },
      "execution_count": null,
      "outputs": []
    },
    {
      "cell_type": "markdown",
      "source": [
        ""
      ],
      "metadata": {
        "id": "MJN1BH9TQsBE"
      }
    },
    {
      "cell_type": "markdown",
      "source": [
        "# **Chapter03 그리디**"
      ],
      "metadata": {
        "id": "eIl990VJyeQ7"
      }
    },
    {
      "cell_type": "markdown",
      "source": [
        "그리디(Greedy) 알고리즘: 현재 상황에서 지금 당장 좋은 것만 고르는 방법\n",
        "대표적인 문제 예시는 거스름돈 돌려주기-> '가장 큰 화폐 단위부터' 돈을 거슬러 주면 됨."
      ],
      "metadata": {
        "id": "GGFJqqYlynKg"
      }
    },
    {
      "cell_type": "code",
      "execution_count": null,
      "metadata": {
        "colab": {
          "base_uri": "https://localhost:8080/"
        },
        "id": "Q93vb7v2yS0R",
        "outputId": "c5af8754-a1f5-42d5-80e7-8e7b498a0b7f"
      },
      "outputs": [
        {
          "output_type": "stream",
          "name": "stdout",
          "text": [
            "6\n"
          ]
        }
      ],
      "source": [
        "# 거스름돈 문제\n",
        "# 동전 몇 개를 거슬러 주는지에 대한 문제\n",
        "\n",
        "n = 1260\n",
        "count = 0\n",
        "\n",
        "coin = [500, 100, 50, 10]\n",
        "\n",
        "for i in coin:\n",
        "  count += n // i\n",
        "  n %= i\n",
        "\n",
        "print(count)"
      ]
    },
    {
      "cell_type": "markdown",
      "source": [
        "화폐의 종류만큼 반복을 수행하므로 화폐의 종류가 K개이면 시간복잡도는 O(K)가 됨.\n",
        "\n",
        "대부분의 문제는 그리디 알고리즘을 이용했을 때 최적의 해를 찾는 것은 어려움. 대신 이렇게 접근했을 때 정확한 답을 찾을 수 있다는 보장이 있을 때는 매우 효과적이며 직관적임.\n",
        "\n",
        "대부분의 그리디 알고리즘 문제에서는 문제 풀이를 위한 최소한의 아이디어를 떠올리고 이것이 정당한지 검토할 수 있어야 답을 도출할 수 있음."
      ],
      "metadata": {
        "id": "1c1Ynu433KTB"
      }
    },
    {
      "cell_type": "code",
      "source": [
        "example = [1, 2, 3, 4]\n",
        "\n",
        "result = []\n",
        "\n",
        "for i in example:\n",
        "  result.append(i + 1)\n",
        "\n",
        "print(result)"
      ],
      "metadata": {
        "colab": {
          "base_uri": "https://localhost:8080/"
        },
        "id": "4qfgcY48fKJ-",
        "outputId": "bd0ac40b-4bec-4c73-9699-932a15b4357d"
      },
      "execution_count": null,
      "outputs": [
        {
          "output_type": "stream",
          "name": "stdout",
          "text": [
            "[2, 3, 4, 5]\n"
          ]
        }
      ]
    },
    {
      "cell_type": "code",
      "source": [
        "def add_one(n):\n",
        "  return n + 1\n",
        "\n",
        "example = [1, 2, 3, 4]\n",
        "\n",
        "result2 = list(map(lambda n : n + 1, example))\n",
        "print(result2)"
      ],
      "metadata": {
        "colab": {
          "base_uri": "https://localhost:8080/"
        },
        "id": "KnyYcnJTgB2S",
        "outputId": "f1922d33-7383-496f-cbd6-d26654ba6a51"
      },
      "execution_count": null,
      "outputs": [
        {
          "output_type": "stream",
          "name": "stdout",
          "text": [
            "[2, 3, 4, 5]\n"
          ]
        }
      ]
    },
    {
      "cell_type": "code",
      "source": [
        "data = list(map(int, input().split()))"
      ],
      "metadata": {
        "colab": {
          "base_uri": "https://localhost:8080/"
        },
        "id": "XkbCVZO7iZaE",
        "outputId": "a0ce3414-a6cc-4da9-ff48-323622e2c823"
      },
      "execution_count": null,
      "outputs": [
        {
          "name": "stdout",
          "output_type": "stream",
          "text": [
            "2 3 4 5\n"
          ]
        }
      ]
    },
    {
      "cell_type": "code",
      "source": [
        "print(data)"
      ],
      "metadata": {
        "colab": {
          "base_uri": "https://localhost:8080/"
        },
        "id": "NzwRzSvniiLA",
        "outputId": "baddb22d-6335-4094-8d7d-fbd1353c81fe"
      },
      "execution_count": null,
      "outputs": [
        {
          "output_type": "stream",
          "name": "stdout",
          "text": [
            "[2, 3, 4, 5]\n"
          ]
        }
      ]
    },
    {
      "cell_type": "code",
      "source": [
        "#파이썬의 기본 input() 함수는 동작 속도가 느려서 시간 초과로 오답 판정을 받을 수 있음. 이 경우 파이썬의 sys 라이브러리에 정의되어 있는 sys.stdin.readline()함수를 이용.\n",
        "\n",
        "import sys\n",
        "\n",
        "data = sys.stdin.readline().rstrip()\n",
        "print(data)"
      ],
      "metadata": {
        "colab": {
          "base_uri": "https://localhost:8080/"
        },
        "id": "fNL4y6l6idX1",
        "outputId": "095658ae-9d81-4964-93b5-fbb96e4ae307"
      },
      "execution_count": null,
      "outputs": [
        {
          "output_type": "stream",
          "name": "stdout",
          "text": [
            "\n"
          ]
        }
      ]
    },
    {
      "cell_type": "code",
      "source": [
        "answer = 7\n",
        "print(\"정답은\" + str(answer) + \"입니다.\") # 공백 안생김\n",
        "print(\"정답은\", answer, \"입니다.\") # 의도치 않은 공백 생김\n",
        "print(f\"정답은 {answer}입니다.\") # 공백 안생김"
      ],
      "metadata": {
        "colab": {
          "base_uri": "https://localhost:8080/"
        },
        "id": "t5_hbNYCiYW2",
        "outputId": "8a19553d-ac5e-4ff7-f3f7-6886ac15dd9a"
      },
      "execution_count": null,
      "outputs": [
        {
          "output_type": "stream",
          "name": "stdout",
          "text": [
            "정답은7입니다.\n",
            "정답은 7 입니다.\n",
            "정답은 7입니다.\n"
          ]
        }
      ]
    },
    {
      "cell_type": "markdown",
      "source": [
        "표준 라이브러리란?\n",
        "\n",
        "특정한 프로그래밍 언어에서 자주 사용되는 표준 소스코드를 미리 구현해 놓은 라이브러리.\n",
        "\n",
        "코딩 테스트를 준비하며 반드시 알아야 하는 라이브러리 6가지.\n",
        "\n",
        "* 내장 함수: print(), input(), sorted()와 같은...\n",
        "* itertools: 파이썬에서 반복되는 형태의 데이터 처리 기능제공. 순열과 조합 라이브러리 제공한다.\n",
        "* heapq: 힙(Heap) 기능을 제공하는 라이브러리. 우선순위 큐 기능을 구현하기 위해 사용.\n",
        "* bisect: 이진 탐색(Binary Search)기능을 제공하는 라이브러리\n",
        "* collections: 덱(deque), 카운터(Counter) 등의 유용한 자료구조를 포함하고 있는 라이브러리.\n",
        "* math: 필수적인 수학적 기능을 제공하는 라이브러리."
      ],
      "metadata": {
        "id": "jCnaxfBgkWjT"
      }
    },
    {
      "cell_type": "code",
      "source": [
        "result = eval(\"(3+5) * 5\")\n",
        "print(result)\n",
        "print(type(result))"
      ],
      "metadata": {
        "colab": {
          "base_uri": "https://localhost:8080/"
        },
        "id": "kuIcX5LykGqF",
        "outputId": "3f55363c-02cb-4e66-ea64-42708b2a2a07"
      },
      "execution_count": null,
      "outputs": [
        {
          "output_type": "stream",
          "name": "stdout",
          "text": [
            "40\n",
            "<class 'int'>\n"
          ]
        }
      ]
    },
    {
      "cell_type": "markdown",
      "source": [
        "힙(heap)기능을 하는 heapq 라이브버리 제공함. 파이썬의 힙은 최소 힙으로 구성되어 있음. 최상단 원소는 항상 '가장 작은' 원소로 제공하므로 원소를 넣었다가 빼는 것만으로 시간 복잡도가 O(NlogN)에 오름차순 정렬 가능!\n",
        "\n",
        "* 힙에 원소를 삽입할 때 -> heappush() 메서드 사용\n",
        "* 힙에 원소를 뺄 때 -> heappop() 메서드 사용"
      ],
      "metadata": {
        "id": "yF-5HM8t-Nct"
      }
    },
    {
      "cell_type": "code",
      "source": [
        "import heapq\n",
        "\n",
        "def heapsort(iterable):\n",
        "  h = []\n",
        "  result = []\n",
        "  \n",
        "  for value in iterable:\n",
        "    heapq.heappush(h, value)\n",
        "  for i in range(len(h)):\n",
        "    result.append(heapq.heappop(h))\n",
        "  return result\n",
        "\n",
        "result = heapsort([1, 3, 5, 7, 9, 2, 4, 6, 8, 0])\n",
        "print(result)"
      ],
      "metadata": {
        "id": "p4iawogHkEqe",
        "colab": {
          "base_uri": "https://localhost:8080/"
        },
        "outputId": "ad22ca65-2fe0-4d19-828c-fd57a773775b"
      },
      "execution_count": null,
      "outputs": [
        {
          "output_type": "stream",
          "name": "stdout",
          "text": [
            "[0, 1, 2, 3, 4, 5, 6, 7, 8, 9]\n"
          ]
        }
      ]
    },
    {
      "cell_type": "markdown",
      "source": [
        "파이썬에서는 최대 힙 기능 제공 안함. 따라서 들어가는 원소의 부호를 바꿔줘야 함."
      ],
      "metadata": {
        "id": "EwjPVc5k-3Cg"
      }
    },
    {
      "cell_type": "code",
      "source": [
        "import heapq\n",
        "\n",
        "def max_heap(iterable):\n",
        "  h = []\n",
        "  result = []\n",
        "\n",
        "  for value in iterable:\n",
        "    heapq.heappush(h, -value)\n",
        "  for i in range(len(h)):\n",
        "    result.append(-heapq.heappop(h))\n",
        "  return result\n",
        "\n",
        "result = max_heap([1, 3, 5, 7, 9, 2, 4, 6, 8, 0])\n",
        "print(result)"
      ],
      "metadata": {
        "colab": {
          "base_uri": "https://localhost:8080/"
        },
        "id": "vQ3BD9A--9fa",
        "outputId": "6da6da27-21ab-4cc2-8ab6-476c4e512d56"
      },
      "execution_count": null,
      "outputs": [
        {
          "output_type": "stream",
          "name": "stdout",
          "text": [
            "[9, 8, 7, 6, 5, 4, 3, 2, 1, 0]\n"
          ]
        }
      ]
    },
    {
      "cell_type": "code",
      "source": [
        "from collections import Counter\n",
        "\n",
        "counter = Counter(['red', 'blue', 'red' , 'yellow', 'blue', 'blue'])\n",
        "\n",
        "print(counter)\n",
        "print(type(counter)) # 객체로 반환됨.\n",
        "print(counter['blue'])\n",
        "print(counter['red'])\n",
        "print(counter['yellow'])"
      ],
      "metadata": {
        "colab": {
          "base_uri": "https://localhost:8080/"
        },
        "id": "2azC_GpiA28o",
        "outputId": "e50a3b06-3d17-4e93-b3d7-6e618652850c"
      },
      "execution_count": null,
      "outputs": [
        {
          "output_type": "stream",
          "name": "stdout",
          "text": [
            "Counter({'blue': 3, 'red': 2, 'yellow': 1})\n",
            "<class 'collections.Counter'>\n",
            "3\n",
            "2\n",
            "1\n"
          ]
        }
      ]
    },
    {
      "cell_type": "markdown",
      "source": [
        "math 메서드: 자주 사용되는 수학적인 기능 제공\n",
        "\n",
        "* factorial(), sqrt(), gcd() -> 최대 공약수"
      ],
      "metadata": {
        "id": "PlBfcfc0BffA"
      }
    },
    {
      "cell_type": "markdown",
      "source": [
        "### 실전 문제 01. 큰수의 법칙\n",
        "\n",
        "동빈이의 큰 수의 법칙은 다양한 수로 이루어진 배열이 있을 때 주어진 수들을 M번 더하여 가장 큰 수를 만드는 법칙. 단, 배열의 특정한 인덱스(번호)에 해당하는 수가 연속해서 K번을 초과하여 더해질 수 없는 것이 이 법칙의 특징.\n",
        "\n",
        "**1. 입력 조건**\n",
        "- 배열의 크기가 N, 숫자가 더해지는 횟수가 M, 연속해서 초과하면 안되는 횟수가 K.\n",
        "첫째 줄에 N(2<= N <= 1,000), M(1<= M <= 10,000), K(1<= K <= 10,000)의 자연수가 주어지며, 각 자연수는 공백으로 구분한다.\n",
        "\n",
        "- 둘째 줄에 N개의 자연수가 주어진다. 각 자연수는 공백으로 구분한다. 단, 각각의 자연수는 1이상 10,000 이하의 수로 주어진다.\n",
        "\n",
        "- 입력으로 주어지는 K는 항상 M보다 작거나 같다.(K <= M)\n",
        "\n",
        "**2. 출력 조건**\n",
        "- 첫째 줄에 동빈이의 큰 수의 법칙에 따라 더해진 답을 출력한다.\n",
        "\n",
        "***\n",
        "\n",
        "**입력 예시**\n",
        "\n",
        "5 8 3\n",
        "\n",
        "2 4 5 4 6\n",
        "\n",
        "**출력 예시**\n",
        "\n",
        "46"
      ],
      "metadata": {
        "id": "BvL4BkAISr67"
      }
    },
    {
      "cell_type": "code",
      "source": [
        "data = [1, 2, 3, 4]\n",
        "for i in range(len(data)):\n",
        "  print(i)"
      ],
      "metadata": {
        "colab": {
          "base_uri": "https://localhost:8080/"
        },
        "id": "dAXMw8sEDkJh",
        "outputId": "588d2bf6-e8a9-4a68-f318-2352f3634b4d"
      },
      "execution_count": null,
      "outputs": [
        {
          "output_type": "stream",
          "name": "stdout",
          "text": [
            "0\n",
            "1\n",
            "2\n",
            "3\n"
          ]
        }
      ]
    },
    {
      "cell_type": "code",
      "source": [
        "n, m, k= map(int, input().split())\n",
        "\n",
        "data = list(map(int, input().split()))\n",
        "\n",
        "data.sort()\n",
        "first = data[-1]\n",
        "second = data[-2]\n",
        "\n",
        "result = 0\n",
        "\n",
        "while True:\n",
        "  for i in range(k):\n",
        "    if m == 0:\n",
        "      break\n",
        "    result += first\n",
        "    m -= 1\n",
        "  if m == 0:\n",
        "    break\n",
        "  result += second\n",
        "  m -= 1\n",
        "\n",
        "print(result)"
      ],
      "metadata": {
        "id": "vKIqdS6-U0fQ",
        "colab": {
          "base_uri": "https://localhost:8080/"
        },
        "outputId": "79c43371-288e-466f-80ff-5717829cefe8"
      },
      "execution_count": null,
      "outputs": [
        {
          "output_type": "stream",
          "name": "stdout",
          "text": [
            "5 8 3\n",
            "2 4 5 4 6\n",
            "46\n"
          ]
        }
      ]
    },
    {
      "cell_type": "code",
      "source": [
        "import time\n",
        "n, m, k = map(int, input().split())\n",
        "data = list(map(int, input().split()))\n",
        "\n",
        "data.sort()\n",
        "first = data[-1]\n",
        "second = data[-2]\n",
        "\n",
        "result = 0\n",
        "start = time.time()\n",
        "while True:\n",
        "  for i in range(k):\n",
        "    if m == 0:\n",
        "      break\n",
        "    result += first\n",
        "    m -= 1\n",
        "  if m == 0:\n",
        "    break\n",
        "  result +=  second\n",
        "  m -= 1\n",
        "\n",
        "print(result)\n",
        "\n",
        "end = time.time()\n",
        "\n",
        "print(f\"시간은 {end - start}입니다.\")"
      ],
      "metadata": {
        "colab": {
          "base_uri": "https://localhost:8080/"
        },
        "id": "gX9LZUYmOKFY",
        "outputId": "3b4f7b17-62d0-48cd-adc0-0951f23b5bbc"
      },
      "execution_count": null,
      "outputs": [
        {
          "output_type": "stream",
          "name": "stdout",
          "text": [
            "5 8 3\n",
            "2 4 5 4 6\n",
            "46\n",
            "시간은 0.0008130073547363281입니다.\n"
          ]
        }
      ]
    },
    {
      "cell_type": "markdown",
      "source": [
        "위와 같은 방법으로 했을 시에 M이 10만 이상이 되면 시간 초과 판정 받음. 따라서 더 시간 복잡도가 낮은 알고리즘을 개발해야 함."
      ],
      "metadata": {
        "id": "CeuBnFmPSlLW"
      }
    },
    {
      "cell_type": "markdown",
      "source": [
        "데이터의 양에 따라 달라지겠지만, 밑에가 시간복잡도가 더 낮은 편임..."
      ],
      "metadata": {
        "id": "bIzyAN8TBTcr"
      }
    },
    {
      "cell_type": "code",
      "source": [
        "import time\n",
        "\n",
        "n, m, k = map(int, input().split())\n",
        "data = list(map(int, input().split()))\n",
        "\n",
        "data.sort()\n",
        "first = data[-1]\n",
        "second = data[-2]\n",
        "\n",
        "result = 0 \n",
        "\n",
        "start = time.time()\n",
        "\n",
        "count = m // (k+1)\n",
        "\n",
        "result = (first * k + second) * count + first * (m % (k+1))\n",
        "print(result)\n",
        " \n",
        "end = time.time()\n",
        "print(f\"시간은 {end - start}입니다.\")"
      ],
      "metadata": {
        "id": "q0QRcAtYVZEH",
        "colab": {
          "base_uri": "https://localhost:8080/"
        },
        "outputId": "58a109ce-220c-4bc5-f0bf-c560aa309e81"
      },
      "execution_count": null,
      "outputs": [
        {
          "output_type": "stream",
          "name": "stdout",
          "text": [
            "5 8 3\n",
            "2 4 5 4 6\n",
            "46\n",
            "시간은 0.00025725364685058594입니다.\n"
          ]
        }
      ]
    },
    {
      "cell_type": "markdown",
      "source": [
        "* 리스트에 -1대신 n-1을 넣어본 시간 복잡도"
      ],
      "metadata": {
        "id": "j8ArsvXlCWxT"
      }
    },
    {
      "cell_type": "code",
      "source": [
        "import time\n",
        "\n",
        "n, m, k = map(int, input().split())\n",
        "data = list(map(int, input().split()))\n",
        "\n",
        "data.sort()\n",
        "first = data[n-1]\n",
        "second = data[n-2]\n",
        "\n",
        "start = time.time()\n",
        "\n",
        "count = m // (k+1)\n",
        "\n",
        "result = (first * k + second) * count + first * (m % (k+1))\n",
        "print(result)\n",
        " \n",
        "end = time.time()\n",
        "print(f\"시간은 {end - start}입니다.\")"
      ],
      "metadata": {
        "colab": {
          "base_uri": "https://localhost:8080/"
        },
        "id": "eCLIsZbcBo3I",
        "outputId": "65edc141-1076-4a1d-c046-58600832a261"
      },
      "execution_count": null,
      "outputs": [
        {
          "output_type": "stream",
          "name": "stdout",
          "text": [
            "5 8 3\n",
            "2 4 5 4 6\n",
            "46\n",
            "시간은 0.0001671314239501953입니다.\n"
          ]
        }
      ]
    },
    {
      "cell_type": "markdown",
      "source": [
        "* 똑같은 코드라도 똑같은 시간이 출력되는 것은 아님! 애매하고만.."
      ],
      "metadata": {
        "id": "WWrupDyaCfRX"
      }
    },
    {
      "cell_type": "code",
      "source": [
        "import time\n",
        "\n",
        "n, m, k = map(int, input().split())\n",
        "data = list(map(int, input().split()))\n",
        "\n",
        "data.sort()\n",
        "first = data[n-1]\n",
        "second = data[n-2]\n",
        "\n",
        "start = time.time()\n",
        "\n",
        "count = m // (k+1)\n",
        "\n",
        "result = (first * k + second) * count + first * (m % (k+1))\n",
        "print(result)\n",
        " \n",
        "end = time.time()\n",
        "print(f\"시간은 {end - start}입니다.\")"
      ],
      "metadata": {
        "colab": {
          "base_uri": "https://localhost:8080/"
        },
        "id": "XB1VZz6cCCgj",
        "outputId": "b190a5c8-3d4d-4c60-d915-df2b1ee0a88a"
      },
      "execution_count": null,
      "outputs": [
        {
          "output_type": "stream",
          "name": "stdout",
          "text": [
            "5 8 3\n",
            "2 4 5 4 6\n",
            "46\n",
            "시간은 0.0002732276916503906입니다.\n"
          ]
        }
      ]
    },
    {
      "cell_type": "markdown",
      "source": [
        "* result를 재할당한 후 시간복잡도"
      ],
      "metadata": {
        "id": "cgMSykcbCQ8L"
      }
    },
    {
      "cell_type": "code",
      "source": [
        "import time\n",
        "\n",
        "n, m, k = map(int, input().split())\n",
        "data = list(map(int, input().split()))\n",
        "\n",
        "data.sort()\n",
        "first = data[n-1]\n",
        "second = data[n-2]\n",
        "\n",
        "result = 0\n",
        "\n",
        "start = time.time()\n",
        "\n",
        "count = m // (k+1)\n",
        "\n",
        "result = (first * k + second) * count + first * (m % (k+1))\n",
        "print(result)\n",
        " \n",
        "end = time.time()\n",
        "print(f\"시간은 {end - start}입니다.\")"
      ],
      "metadata": {
        "colab": {
          "base_uri": "https://localhost:8080/"
        },
        "id": "um1BLYoVB8z7",
        "outputId": "7fffb8bf-8df2-4968-bc67-566011cd35a0"
      },
      "execution_count": null,
      "outputs": [
        {
          "output_type": "stream",
          "name": "stdout",
          "text": [
            "5 8 3\n",
            "2 4 5 4 6\n",
            "46\n",
            "시간은 0.0003039836883544922입니다.\n"
          ]
        }
      ]
    },
    {
      "cell_type": "markdown",
      "source": [
        "* 책에 있는 풀이 소스 코드"
      ],
      "metadata": {
        "id": "m7PCHRoqBSZz"
      }
    },
    {
      "cell_type": "code",
      "source": [
        "import time\n",
        "n, m ,k = map(int, input().split())\n",
        "data = list(map(int, input().split()))\n",
        "\n",
        "data.sort()\n",
        "first = data[n-1]\n",
        "second = data[n-2]\n",
        "\n",
        "result = 0\n",
        "\n",
        "start = time.time()\n",
        "\n",
        "count = (m // (k + 1)) * k\n",
        "count += m % (k + 1)\n",
        "\n",
        "result += first * count\n",
        "result += second * (m - count)\n",
        "\n",
        "\n",
        "print(result)\n",
        "\n",
        "end = time.time()\n",
        "\n",
        "print(f\"시간은 {end- start}입니다.\")"
      ],
      "metadata": {
        "id": "M5wb1D7XEr3o",
        "colab": {
          "base_uri": "https://localhost:8080/"
        },
        "outputId": "0d59bf33-9ffb-4591-c6d5-997fa4ed25fb"
      },
      "execution_count": null,
      "outputs": [
        {
          "output_type": "stream",
          "name": "stdout",
          "text": [
            "5 8 3\n",
            "2 4 5 4 6\n",
            "46\n",
            "시간은 0.0012979507446289062입니다.\n"
          ]
        }
      ]
    },
    {
      "cell_type": "markdown",
      "source": [
        "더 빠른건가..? 사실 잘 분간이 안됨..."
      ],
      "metadata": {
        "id": "AfdyrsULd0YQ"
      }
    },
    {
      "cell_type": "markdown",
      "source": [
        "### 실전 문제 02. 숫자 카드 게임\n",
        "\n",
        "숫자 카드 게임은 여러 개의 숫자 카드 중에서 가장 높은 숫자가 쓰인 카드 한 장을 뽑는 게임이다. 룰은 다음과 같다.\n",
        "\n",
        "1. 숫자가 쓰인 카드들이 N X M 형태로 놓여 있다. 이때 N은 행, M은 열.\n",
        "2. 먼저 뽑고자 하는 카드가 포함되어 있는 행을 선택한다.\n",
        "3. 그 다음 선택된 행에 포함된 카드들 중 가장 숫자가 낮은 카드를 뽑아야 한다.\n",
        "4. 따라서 처음에 카드를 골라낼 행을 선택할 때, 이후에 해당 행에서 가장 숫자가 낮은 카드를 뽑을 것은 고려하여 최종적으로 가장 높은 숫자의 카드를 뽑을 수 있도록 전략을 세워야 한다.\n",
        "\n",
        "**1. 입력 조건**\n",
        "- 첫째 줄에 숫자 카드들이 놓인 행의 개수 N과 열의 개수 M이 공백을 기준으로 하여 각각 자연수로 주어진다. (1 <= N,M <= 100)\n",
        "\n",
        "- 둘째 줄부터 N개의 줄에 걸쳐 각 카드에 적힌 숫자가 주어진다. 각 숫자는 1 이상 10,000 이하의 자연수이다.\n",
        "\n",
        "**2. 출력 조건**\n",
        "- 첫째 줄에 게임의 룰에 맞게 선택한 카드에 적힌 숫자를 출력한다.\n",
        "\n",
        "***\n",
        "\n",
        "**입력 예시1**\n",
        "\n",
        "3 3\n",
        "\n",
        "3 1 2\n",
        "\n",
        "4 1 4\n",
        "\n",
        "2 2 2\n",
        "\n",
        "**출력 예시1**\n",
        "\n",
        "2\n",
        "\n",
        "***\n",
        "\n",
        "**입력 예시2**\n",
        "\n",
        "2 4\n",
        "\n",
        "7 3 1 8\n",
        "\n",
        "3 3 3 4\n",
        "\n",
        "**출력 예시2**\n",
        "\n",
        "3"
      ],
      "metadata": {
        "id": "qUhZu0RjVYvw"
      }
    },
    {
      "cell_type": "code",
      "source": [
        "import time\n",
        "\n",
        "n, m = map(int, input().split())\n"
      ],
      "metadata": {
        "id": "AOHiyb2GYAH8"
      },
      "execution_count": null,
      "outputs": []
    },
    {
      "cell_type": "markdown",
      "source": [
        ""
      ],
      "metadata": {
        "id": "uC1Ipp0zYAtt"
      }
    },
    {
      "cell_type": "code",
      "source": [
        ""
      ],
      "metadata": {
        "id": "y7rg_kAEYBGj"
      },
      "execution_count": null,
      "outputs": []
    },
    {
      "cell_type": "markdown",
      "source": [
        "### 실전 문제 03. 1이 될 때까지\n",
        "\n",
        "어떠한 수 N이 1이 될 때까지 다음의 두 과정 중 하나를 반복적으로 선택하여 수행하려고 한다. 단, 두 번째 연산은 N이 K로 나누어떨어질 때만 선택할 수 있다.\n",
        "\n",
        "1. N에서 1을 뺀다.\n",
        "2. N을 K로 나눈다.\n",
        "예를 들어 N이 17, K가 4라고 가정하자. 이때 1번의 과정을 한 번 수행하면 N은 16이 된다. 이후에 2번의 과정을 두 번 수행하면 N은 1이 된다. 결과적으로 이 경우 전체 과정을 실행한 횟수는 3이 된다. 이는 N을 1로 만드는 최소 횟수이다. \n",
        "\n",
        "N과 K가 주어질 때 N이 1이 될 때까지 1번 혹은 2번의 과정을 수행해야 하는 최소 횟수를 구하는 프로그램을 작성하시오.\n",
        "\n",
        "**1. 입력 조건**\n",
        "- 첫째 줄에 N(2 <= N <= 100,000)과 K(2 <= K <= 100,000)가 공백으로 구분되며 각각 자연수로 주어진다. 이때 입력으로 주어지는 N은 항상 K보다 크거나 같다.\n",
        "\n",
        "**2. 출력 조건**\n",
        "- 첫째 줄에 N이 1이 될 때까지 1번 혹은 2번의 과정을 수행해야 하는 횟수의 최솟값을 출력한다.\n",
        "\n",
        "***\n",
        "\n",
        "**입력 예시1**\n",
        "\n",
        "25 5\n",
        "\n",
        "**출력 예시1**\n",
        "\n",
        "2"
      ],
      "metadata": {
        "id": "E3qIDgLOYBga"
      }
    },
    {
      "cell_type": "code",
      "source": [
        ""
      ],
      "metadata": {
        "id": "QS7oSRD0DvIZ"
      },
      "execution_count": null,
      "outputs": []
    },
    {
      "cell_type": "markdown",
      "source": [
        "# **Chapter04 구현**\n",
        "\n",
        "구현(Implementation): 머릿 속에 있는 알고리즘을 소스코드로 바꾸는 과정\n",
        "\n",
        "완전 탐색과 시뮬레이션이 구현 유형에 속함.\n",
        "\n",
        "* 완전 탐색: 모든 경우의 수를 주저없이 다 계산하는 해결 방법\n",
        "* 시뮬레이션: 문제에서 제시한 알고리즘을 한 단계씩 차례대로 직접 수행하는 문제 유형\n",
        "\n",
        "코딩 테스트 채점 시스템의 제약\n",
        "1. 메모리 제약 상황 : 파이썬에서 리스트 사용 시 메모리를 고려해야함. 보통 128~512MB 이내\n",
        "* 리스트 길이가 1,000 -> 메모리 사용량 약 4KB\n",
        "* 1,000,000 -> 약 4MB\n",
        "* 10,000,000 -> 약 40MB\n",
        "\n",
        " 따라서 데이터 처리량이 많을 땐, 메모리 제한 무조건 고려해야함!!\n",
        "\n",
        " 또한 알고리즘 문제를 풀 때 시간 제한과 데이터의 개수를 먼저 확인한 뒤 어느 정도의 시간 복잡도의 알고리즘으로 작성해야 풀 수 있을 것인지 예측 가능해야 함.\n",
        "\n",
        " if 문자열 처리(C/C++, JAVA는 까다로움)나 큰 정수(C/C++, JAVA는 라이브러리 별도로 사용해야 함), API 구현은 파이썬이 훨씬 편함. 또한 pypy3 언어는 파이썬 언어를 그대로 지원하면서 실행속도는 파이썬보다 빠른 편."
      ],
      "metadata": {
        "id": "Sbk_iDG0Dup9"
      }
    },
    {
      "cell_type": "markdown",
      "source": [
        "### 예제 01 상하좌우\n",
        "\n",
        "여행가 A는 N X N 크기의 정사각형 공간 위에 서 있다. 가장 왼쪽 위 좌표는 (1, 1)이며, 가장 오른쪽 아래 좌표는 (N, N)에 해당한다. 여행자는 상(U), 하(D), 좌(L), 우(R)로 이동할 수 있다. 이때 여행자는 정사각형 공간을 벗어나는 움직임은 무시된다.\n",
        "\n",
        "계획서가 주어졌을 때 여행가 A가 최종적으로 도착할 지점의 좌표를 출력하는 프로그램을 작성하시오.\n",
        "\n",
        "**1. 입력 조건**\n",
        "- 첫째 줄에 공간의 크기를 나타내는 N이 주어진다. (1 <= N<= 100)\n",
        "\n",
        "- 둘째 줄에 여행가 A가 이동할 계획서 내용이 주어진다. (1 <= 이동 횟수 <= 100)\n",
        "\n",
        "**2. 출력 조건**\n",
        "- 첫째 줄에 여행가 A가 최종적으로 도착할 지점의 좌표(X, Y)를 공백으로 구분하여 출력한다.\n",
        "\n",
        "***\n",
        "\n",
        "**입력 예시1**\n",
        "\n",
        "5\n",
        "\n",
        "R R R U D D\n",
        "\n",
        "**출력 예시1**\n",
        "\n",
        "3 4"
      ],
      "metadata": {
        "id": "KKaE08hzTUsT"
      }
    },
    {
      "cell_type": "code",
      "source": [
        ""
      ],
      "metadata": {
        "id": "tjH7fgsSTURj"
      },
      "execution_count": null,
      "outputs": []
    },
    {
      "cell_type": "markdown",
      "source": [
        ""
      ],
      "metadata": {
        "id": "V8eu_GyYT890"
      }
    },
    {
      "cell_type": "markdown",
      "source": [
        "# **Chapter05 DFS/BFS**\n",
        "**그래프를 탐색하기 위한 대표적인 두 가지 알고리즘**\n",
        "\n",
        "탐색(Search)이란 많은 양의 데이터 중에서 원하는 데이터를 찾는 과정을 의미. 대표적인 탐색 알고리즘으로는 DFS/BFS가 있음.\n",
        "\n",
        "자료구조(Data Structure)는 데이터를 표현하고 관리하고 처리하기 위한 구조\n",
        "\n",
        "스택과 큐는 자료구조의 기초 개념으로 **push(데이터 삽입)/pop(데이터 삭제)** <- 이 두 함수로 구성됨. 이 외에도 오버플로나 언더플로를 고민해야 함.\n",
        "**오버플로(overflow)**는 저장 공간을 벗어나 데이터가 넘쳐 흐를 때 발생하며, **언더플로(underflow)**는 데이터가 전혀 들어 있지 않은 상태에서 삭제 연산을 수행하면 발생한다.\n"
      ],
      "metadata": {
        "id": "tl6qGQWs1z-l"
      }
    },
    {
      "cell_type": "markdown",
      "source": [
        "## 스택(Stack)\n",
        "like 박스 쌓기...선입후출(First In Last Out, FILO)구조 또는 후입선출(Last In First Out, LIFO)구조라고 함.\n",
        "\n",
        "파이썬에서 구현하려면 append()와 pop() 메서드 사용."
      ],
      "metadata": {
        "id": "edWEEDtQ3zRB"
      }
    },
    {
      "cell_type": "code",
      "source": [
        "stack = []\n",
        "\n",
        "stack.append(5)\n",
        "stack.append(2)\n",
        "stack.append(4)\n",
        "stack.pop()\n",
        "stack.append(1)\n",
        "stack.append(9)\n",
        "stack.pop()\n",
        "\n",
        "print(stack)\n",
        "print(stack[::-1]) # 최상단 원소부터 출력"
      ],
      "metadata": {
        "colab": {
          "base_uri": "https://localhost:8080/"
        },
        "id": "tvp8JZ_T4NI1",
        "outputId": "da5fbd72-01dc-4ca1-8eb6-5455ffa51339"
      },
      "execution_count": 2,
      "outputs": [
        {
          "output_type": "stream",
          "name": "stdout",
          "text": [
            "[5, 2, 1]\n",
            "[1, 2, 5]\n"
          ]
        }
      ]
    },
    {
      "cell_type": "markdown",
      "source": [
        "## 큐(Queue)\n",
        "like 대기줄... 선입선출(First In First Out, FIFO)구조라고 함.\n",
        "\n",
        "파이썬에서 구현하려면 collections 모듈에서 제공하는 deque 라이브러리 활용"
      ],
      "metadata": {
        "id": "jQ9DEs8D4weS"
      }
    },
    {
      "cell_type": "code",
      "source": [
        "from collections import deque\n",
        "\n",
        "queue = deque()\n",
        "\n",
        "print(queue)\n",
        "\n",
        "queue.append(5)\n",
        "queue.append(2)\n",
        "queue.append(3)\n",
        "queue.popleft() # deque에서는 popleft() 메서드 써야함!\n",
        "queue.append(1)\n",
        "queue.append(9)\n",
        "queue.popleft()\n",
        "queue.append(5)\n",
        "\n",
        "print(queue) # 먼저 들어온 순서대로 출력\n",
        "queue.reverse()\n",
        "print(queue) # 나중에 들어온 원소부터 출력\n",
        "\n",
        "# deque 객체를 리스트 자료형으로 변환? -> list() method\n",
        "list_queue = list(queue)\n",
        "print(list_queue)"
      ],
      "metadata": {
        "colab": {
          "base_uri": "https://localhost:8080/"
        },
        "id": "qys138oKIiDj",
        "outputId": "13633c56-28c1-431a-8533-1126c11eab10"
      },
      "execution_count": 8,
      "outputs": [
        {
          "output_type": "stream",
          "name": "stdout",
          "text": [
            "deque([])\n",
            "deque([3, 1, 9, 5])\n",
            "deque([5, 9, 1, 3])\n",
            "[5, 9, 1, 3]\n"
          ]
        }
      ]
    },
    {
      "cell_type": "markdown",
      "source": [
        "## 재귀 함수(Recursive Function)\n",
        ": 자기 자신을 다시 호출하는 함수"
      ],
      "metadata": {
        "id": "ZLNy7j9vatdT"
      }
    },
    {
      "cell_type": "code",
      "source": [
        "def recursive_function():\n",
        "  print('재귀함수')\n",
        "  recursive_function()\n",
        "\n",
        "recursive_function()"
      ],
      "metadata": {
        "colab": {
          "base_uri": "https://localhost:8080/",
          "height": 1000
        },
        "id": "rV_0u5XKa1If",
        "outputId": "0e34864f-effd-41fe-faf9-baf689beca93"
      },
      "execution_count": 9,
      "outputs": [
        {
          "output_type": "stream",
          "name": "stdout",
          "text": [
            "재귀함수\n",
            "재귀함수\n",
            "재귀함수\n",
            "재귀함수\n",
            "재귀함수\n",
            "재귀함수\n",
            "재귀함수\n",
            "재귀함수\n",
            "재귀함수\n",
            "재귀함수\n",
            "재귀함수\n",
            "재귀함수\n",
            "재귀함수\n",
            "재귀함수\n",
            "재귀함수\n",
            "재귀함수\n",
            "재귀함수\n",
            "재귀함수\n",
            "재귀함수\n",
            "재귀함수\n",
            "재귀함수\n",
            "재귀함수\n",
            "재귀함수\n",
            "재귀함수\n",
            "재귀함수\n",
            "재귀함수\n",
            "재귀함수\n",
            "재귀함수\n",
            "재귀함수\n",
            "재귀함수\n",
            "재귀함수\n",
            "재귀함수\n",
            "재귀함수\n",
            "재귀함수\n",
            "재귀함수\n",
            "재귀함수\n",
            "재귀함수\n",
            "재귀함수\n",
            "재귀함수\n",
            "재귀함수\n",
            "재귀함수\n",
            "재귀함수\n",
            "재귀함수\n",
            "재귀함수\n",
            "재귀함수\n",
            "재귀함수\n",
            "재귀함수\n",
            "재귀함수\n",
            "재귀함수\n",
            "재귀함수\n",
            "재귀함수\n",
            "재귀함수\n",
            "재귀함수\n",
            "재귀함수\n",
            "재귀함수\n",
            "재귀함수\n",
            "재귀함수\n",
            "재귀함수\n",
            "재귀함수\n",
            "재귀함수\n",
            "재귀함수\n",
            "재귀함수\n",
            "재귀함수\n",
            "재귀함수\n",
            "재귀함수\n",
            "재귀함수\n",
            "재귀함수\n",
            "재귀함수\n",
            "재귀함수\n",
            "재귀함수\n",
            "재귀함수\n",
            "재귀함수\n",
            "재귀함수\n",
            "재귀함수\n",
            "재귀함수\n",
            "재귀함수\n",
            "재귀함수\n",
            "재귀함수\n",
            "재귀함수\n",
            "재귀함수\n",
            "재귀함수\n",
            "재귀함수\n",
            "재귀함수\n",
            "재귀함수\n",
            "재귀함수\n",
            "재귀함수\n",
            "재귀함수\n",
            "재귀함수\n",
            "재귀함수\n",
            "재귀함수\n",
            "재귀함수\n",
            "재귀함수\n",
            "재귀함수\n",
            "재귀함수\n",
            "재귀함수\n",
            "재귀함수\n",
            "재귀함수\n",
            "재귀함수\n",
            "재귀함수\n",
            "재귀함수\n",
            "재귀함수\n",
            "재귀함수\n",
            "재귀함수\n",
            "재귀함수\n",
            "재귀함수\n",
            "재귀함수\n",
            "재귀함수\n",
            "재귀함수\n",
            "재귀함수\n",
            "재귀함수\n",
            "재귀함수\n",
            "재귀함수\n",
            "재귀함수\n",
            "재귀함수\n",
            "재귀함수\n",
            "재귀함수\n",
            "재귀함수\n",
            "재귀함수\n",
            "재귀함수\n",
            "재귀함수\n",
            "재귀함수\n",
            "재귀함수\n",
            "재귀함수\n",
            "재귀함수\n",
            "재귀함수\n",
            "재귀함수\n",
            "재귀함수\n",
            "재귀함수\n",
            "재귀함수\n",
            "재귀함수\n",
            "재귀함수\n",
            "재귀함수\n",
            "재귀함수\n",
            "재귀함수\n",
            "재귀함수\n",
            "재귀함수\n",
            "재귀함수\n",
            "재귀함수\n",
            "재귀함수\n",
            "재귀함수\n",
            "재귀함수\n",
            "재귀함수\n",
            "재귀함수\n",
            "재귀함수\n",
            "재귀함수\n",
            "재귀함수\n",
            "재귀함수\n",
            "재귀함수\n",
            "재귀함수\n",
            "재귀함수\n",
            "재귀함수\n",
            "재귀함수\n",
            "재귀함수\n",
            "재귀함수\n",
            "재귀함수\n",
            "재귀함수\n",
            "재귀함수\n",
            "재귀함수\n",
            "재귀함수\n",
            "재귀함수\n",
            "재귀함수\n",
            "재귀함수\n",
            "재귀함수\n",
            "재귀함수\n",
            "재귀함수\n",
            "재귀함수\n",
            "재귀함수\n",
            "재귀함수\n",
            "재귀함수\n",
            "재귀함수\n",
            "재귀함수\n",
            "재귀함수\n",
            "재귀함수\n",
            "재귀함수\n",
            "재귀함수\n",
            "재귀함수\n",
            "재귀함수\n",
            "재귀함수\n",
            "재귀함수\n",
            "재귀함수\n",
            "재귀함수\n",
            "재귀함수\n",
            "재귀함수\n",
            "재귀함수\n",
            "재귀함수\n",
            "재귀함수\n",
            "재귀함수\n",
            "재귀함수\n",
            "재귀함수\n",
            "재귀함수\n",
            "재귀함수\n",
            "재귀함수\n",
            "재귀함수\n",
            "재귀함수\n",
            "재귀함수\n",
            "재귀함수\n",
            "재귀함수\n",
            "재귀함수\n",
            "재귀함수\n",
            "재귀함수\n",
            "재귀함수\n",
            "재귀함수\n",
            "재귀함수\n",
            "재귀함수\n",
            "재귀함수\n",
            "재귀함수\n",
            "재귀함수\n",
            "재귀함수\n",
            "재귀함수\n",
            "재귀함수\n",
            "재귀함수\n",
            "재귀함수\n",
            "재귀함수\n",
            "재귀함수\n",
            "재귀함수\n",
            "재귀함수\n",
            "재귀함수\n",
            "재귀함수\n",
            "재귀함수\n",
            "재귀함수\n",
            "재귀함수\n",
            "재귀함수\n",
            "재귀함수\n",
            "재귀함수\n",
            "재귀함수\n",
            "재귀함수\n",
            "재귀함수\n",
            "재귀함수\n",
            "재귀함수\n",
            "재귀함수\n",
            "재귀함수\n",
            "재귀함수\n",
            "재귀함수\n",
            "재귀함수\n",
            "재귀함수\n",
            "재귀함수\n",
            "재귀함수\n",
            "재귀함수\n",
            "재귀함수\n",
            "재귀함수\n",
            "재귀함수\n",
            "재귀함수\n",
            "재귀함수\n",
            "재귀함수\n",
            "재귀함수\n",
            "재귀함수\n",
            "재귀함수\n",
            "재귀함수\n",
            "재귀함수\n",
            "재귀함수\n",
            "재귀함수\n",
            "재귀함수\n",
            "재귀함수\n",
            "재귀함수\n",
            "재귀함수\n",
            "재귀함수\n",
            "재귀함수\n",
            "재귀함수\n",
            "재귀함수\n",
            "재귀함수\n",
            "재귀함수\n",
            "재귀함수\n",
            "재귀함수\n",
            "재귀함수\n",
            "재귀함수\n",
            "재귀함수\n",
            "재귀함수\n",
            "재귀함수\n",
            "재귀함수\n",
            "재귀함수\n",
            "재귀함수\n",
            "재귀함수\n",
            "재귀함수\n",
            "재귀함수\n",
            "재귀함수\n",
            "재귀함수\n",
            "재귀함수\n",
            "재귀함수\n",
            "재귀함수\n",
            "재귀함수\n",
            "재귀함수\n",
            "재귀함수\n",
            "재귀함수\n",
            "재귀함수\n",
            "재귀함수\n",
            "재귀함수\n",
            "재귀함수\n",
            "재귀함수\n",
            "재귀함수\n",
            "재귀함수\n",
            "재귀함수\n",
            "재귀함수\n",
            "재귀함수\n",
            "재귀함수\n",
            "재귀함수\n",
            "재귀함수\n",
            "재귀함수\n",
            "재귀함수\n",
            "재귀함수\n",
            "재귀함수\n",
            "재귀함수\n",
            "재귀함수\n",
            "재귀함수\n",
            "재귀함수\n",
            "재귀함수\n",
            "재귀함수\n",
            "재귀함수\n",
            "재귀함수\n",
            "재귀함수\n",
            "재귀함수\n",
            "재귀함수\n",
            "재귀함수\n",
            "재귀함수\n",
            "재귀함수\n",
            "재귀함수\n",
            "재귀함수\n",
            "재귀함수\n",
            "재귀함수\n",
            "재귀함수\n",
            "재귀함수\n",
            "재귀함수\n",
            "재귀함수\n",
            "재귀함수\n",
            "재귀함수\n",
            "재귀함수\n",
            "재귀함수\n",
            "재귀함수\n",
            "재귀함수\n",
            "재귀함수\n",
            "재귀함수\n",
            "재귀함수\n",
            "재귀함수\n",
            "재귀함수\n",
            "재귀함수\n",
            "재귀함수\n",
            "재귀함수\n",
            "재귀함수\n",
            "재귀함수\n",
            "재귀함수\n",
            "재귀함수\n",
            "재귀함수\n",
            "재귀함수\n",
            "재귀함수\n",
            "재귀함수\n",
            "재귀함수\n",
            "재귀함수\n",
            "재귀함수\n",
            "재귀함수\n",
            "재귀함수\n",
            "재귀함수\n",
            "재귀함수\n",
            "재귀함수\n",
            "재귀함수\n",
            "재귀함수\n",
            "재귀함수\n",
            "재귀함수\n",
            "재귀함수\n",
            "재귀함수\n",
            "재귀함수\n",
            "재귀함수\n",
            "재귀함수\n",
            "재귀함수\n",
            "재귀함수\n",
            "재귀함수\n",
            "재귀함수\n",
            "재귀함수\n",
            "재귀함수\n",
            "재귀함수\n",
            "재귀함수\n",
            "재귀함수\n",
            "재귀함수\n",
            "재귀함수\n",
            "재귀함수\n",
            "재귀함수\n",
            "재귀함수\n",
            "재귀함수\n",
            "재귀함수\n",
            "재귀함수\n",
            "재귀함수\n",
            "재귀함수\n",
            "재귀함수\n",
            "재귀함수\n",
            "재귀함수\n",
            "재귀함수\n",
            "재귀함수\n",
            "재귀함수\n",
            "재귀함수\n",
            "재귀함수\n",
            "재귀함수\n",
            "재귀함수\n",
            "재귀함수\n",
            "재귀함수\n",
            "재귀함수\n",
            "재귀함수\n",
            "재귀함수\n",
            "재귀함수\n",
            "재귀함수\n",
            "재귀함수\n",
            "재귀함수\n",
            "재귀함수\n",
            "재귀함수\n",
            "재귀함수\n",
            "재귀함수\n",
            "재귀함수\n",
            "재귀함수\n",
            "재귀함수\n",
            "재귀함수\n",
            "재귀함수\n",
            "재귀함수\n",
            "재귀함수\n",
            "재귀함수\n",
            "재귀함수\n",
            "재귀함수\n",
            "재귀함수\n",
            "재귀함수\n",
            "재귀함수\n",
            "재귀함수\n",
            "재귀함수\n",
            "재귀함수\n",
            "재귀함수\n",
            "재귀함수\n",
            "재귀함수\n",
            "재귀함수\n",
            "재귀함수\n",
            "재귀함수\n",
            "재귀함수\n",
            "재귀함수\n",
            "재귀함수\n",
            "재귀함수\n",
            "재귀함수\n",
            "재귀함수\n",
            "재귀함수\n",
            "재귀함수\n",
            "재귀함수\n",
            "재귀함수\n",
            "재귀함수\n",
            "재귀함수\n",
            "재귀함수\n",
            "재귀함수\n",
            "재귀함수\n",
            "재귀함수\n",
            "재귀함수\n",
            "재귀함수\n",
            "재귀함수\n",
            "재귀함수\n",
            "재귀함수\n",
            "재귀함수\n",
            "재귀함수\n",
            "재귀함수\n",
            "재귀함수\n",
            "재귀함수\n",
            "재귀함수\n",
            "재귀함수\n",
            "재귀함수\n",
            "재귀함수\n",
            "재귀함수\n",
            "재귀함수\n",
            "재귀함수\n",
            "재귀함수\n",
            "재귀함수\n",
            "재귀함수\n",
            "재귀함수\n",
            "재귀함수\n",
            "재귀함수\n",
            "재귀함수\n",
            "재귀함수\n",
            "재귀함수\n",
            "재귀함수\n",
            "재귀함수\n",
            "재귀함수\n",
            "재귀함수\n",
            "재귀함수\n",
            "재귀함수\n",
            "재귀함수\n",
            "재귀함수\n",
            "재귀함수\n",
            "재귀함수\n",
            "재귀함수\n",
            "재귀함수\n",
            "재귀함수\n",
            "재귀함수\n",
            "재귀함수\n",
            "재귀함수\n",
            "재귀함수\n",
            "재귀함수\n",
            "재귀함수\n",
            "재귀함수\n",
            "재귀함수\n",
            "재귀함수\n",
            "재귀함수\n",
            "재귀함수\n",
            "재귀함수\n",
            "재귀함수\n",
            "재귀함수\n",
            "재귀함수\n",
            "재귀함수\n",
            "재귀함수\n",
            "재귀함수\n",
            "재귀함수\n",
            "재귀함수\n",
            "재귀함수\n",
            "재귀함수\n",
            "재귀함수\n",
            "재귀함수\n",
            "재귀함수\n",
            "재귀함수\n",
            "재귀함수\n",
            "재귀함수\n",
            "재귀함수\n",
            "재귀함수\n",
            "재귀함수\n",
            "재귀함수\n",
            "재귀함수\n",
            "재귀함수\n",
            "재귀함수\n",
            "재귀함수\n",
            "재귀함수\n",
            "재귀함수\n",
            "재귀함수\n",
            "재귀함수\n",
            "재귀함수\n",
            "재귀함수\n",
            "재귀함수\n",
            "재귀함수\n",
            "재귀함수\n",
            "재귀함수\n",
            "재귀함수\n",
            "재귀함수\n",
            "재귀함수\n",
            "재귀함수\n",
            "재귀함수\n",
            "재귀함수\n",
            "재귀함수\n",
            "재귀함수\n",
            "재귀함수\n",
            "재귀함수\n",
            "재귀함수\n",
            "재귀함수\n",
            "재귀함수\n",
            "재귀함수\n",
            "재귀함수\n",
            "재귀함수\n",
            "재귀함수\n",
            "재귀함수\n",
            "재귀함수\n",
            "재귀함수\n",
            "재귀함수\n",
            "재귀함수\n",
            "재귀함수\n",
            "재귀함수\n",
            "재귀함수\n",
            "재귀함수\n",
            "재귀함수\n",
            "재귀함수\n",
            "재귀함수\n",
            "재귀함수\n",
            "재귀함수\n",
            "재귀함수\n",
            "재귀함수\n",
            "재귀함수\n",
            "재귀함수\n",
            "재귀함수\n",
            "재귀함수\n",
            "재귀함수\n",
            "재귀함수\n",
            "재귀함수\n",
            "재귀함수\n",
            "재귀함수\n",
            "재귀함수\n",
            "재귀함수\n",
            "재귀함수\n",
            "재귀함수\n",
            "재귀함수\n",
            "재귀함수\n",
            "재귀함수\n",
            "재귀함수\n",
            "재귀함수\n",
            "재귀함수\n",
            "재귀함수\n",
            "재귀함수\n",
            "재귀함수\n",
            "재귀함수\n",
            "재귀함수\n",
            "재귀함수\n",
            "재귀함수\n",
            "재귀함수\n",
            "재귀함수\n",
            "재귀함수\n",
            "재귀함수\n",
            "재귀함수\n",
            "재귀함수\n",
            "재귀함수\n",
            "재귀함수\n",
            "재귀함수\n",
            "재귀함수\n",
            "재귀함수\n",
            "재귀함수\n",
            "재귀함수\n",
            "재귀함수\n",
            "재귀함수\n",
            "재귀함수\n",
            "재귀함수\n",
            "재귀함수\n",
            "재귀함수\n",
            "재귀함수\n",
            "재귀함수\n",
            "재귀함수\n",
            "재귀함수\n",
            "재귀함수\n",
            "재귀함수\n",
            "재귀함수\n",
            "재귀함수\n",
            "재귀함수\n",
            "재귀함수\n",
            "재귀함수\n",
            "재귀함수\n",
            "재귀함수\n",
            "재귀함수\n",
            "재귀함수\n",
            "재귀함수\n",
            "재귀함수\n",
            "재귀함수\n",
            "재귀함수\n",
            "재귀함수\n",
            "재귀함수\n",
            "재귀함수\n",
            "재귀함수\n",
            "재귀함수\n",
            "재귀함수\n",
            "재귀함수\n",
            "재귀함수\n",
            "재귀함수\n",
            "재귀함수\n",
            "재귀함수\n",
            "재귀함수\n",
            "재귀함수\n",
            "재귀함수\n",
            "재귀함수\n",
            "재귀함수\n",
            "재귀함수\n",
            "재귀함수\n",
            "재귀함수\n",
            "재귀함수\n",
            "재귀함수\n",
            "재귀함수\n",
            "재귀함수\n",
            "재귀함수\n",
            "재귀함수\n",
            "재귀함수\n",
            "재귀함수\n",
            "재귀함수\n",
            "재귀함수\n",
            "재귀함수\n",
            "재귀함수\n",
            "재귀함수\n",
            "재귀함수\n",
            "재귀함수\n",
            "재귀함수\n",
            "재귀함수\n",
            "재귀함수\n",
            "재귀함수\n",
            "재귀함수\n",
            "재귀함수\n",
            "재귀함수\n",
            "재귀함수\n",
            "재귀함수\n",
            "재귀함수\n",
            "재귀함수\n",
            "재귀함수\n",
            "재귀함수\n",
            "재귀함수\n",
            "재귀함수\n",
            "재귀함수\n",
            "재귀함수\n",
            "재귀함수\n",
            "재귀함수\n",
            "재귀함수\n",
            "재귀함수\n",
            "재귀함수\n",
            "재귀함수\n",
            "재귀함수\n",
            "재귀함수\n",
            "재귀함수\n",
            "재귀함수\n",
            "재귀함수\n",
            "재귀함수\n",
            "재귀함수\n",
            "재귀함수\n",
            "재귀함수\n",
            "재귀함수\n",
            "재귀함수\n",
            "재귀함수\n",
            "재귀함수\n",
            "재귀함수\n",
            "재귀함수\n",
            "재귀함수\n",
            "재귀함수\n",
            "재귀함수\n",
            "재귀함수\n",
            "재귀함수\n",
            "재귀함수\n",
            "재귀함수\n",
            "재귀함수\n",
            "재귀함수\n",
            "재귀함수\n",
            "재귀함수\n",
            "재귀함수\n",
            "재귀함수\n",
            "재귀함수\n",
            "재귀함수\n",
            "재귀함수\n",
            "재귀함수\n",
            "재귀함수\n",
            "재귀함수\n",
            "재귀함수\n",
            "재귀함수\n",
            "재귀함수\n",
            "재귀함수\n",
            "재귀함수\n",
            "재귀함수\n",
            "재귀함수\n",
            "재귀함수\n",
            "재귀함수\n",
            "재귀함수\n",
            "재귀함수\n",
            "재귀함수\n",
            "재귀함수\n",
            "재귀함수\n",
            "재귀함수\n",
            "재귀함수\n",
            "재귀함수\n",
            "재귀함수\n",
            "재귀함수\n",
            "재귀함수\n",
            "재귀함수\n",
            "재귀함수\n",
            "재귀함수\n",
            "재귀함수\n",
            "재귀함수\n",
            "재귀함수\n",
            "재귀함수\n",
            "재귀함수\n",
            "재귀함수\n",
            "재귀함수\n",
            "재귀함수\n",
            "재귀함수\n",
            "재귀함수\n",
            "재귀함수\n",
            "재귀함수\n",
            "재귀함수\n",
            "재귀함수\n",
            "재귀함수\n",
            "재귀함수\n",
            "재귀함수\n",
            "재귀함수\n",
            "재귀함수\n",
            "재귀함수\n",
            "재귀함수\n",
            "재귀함수\n",
            "재귀함수\n",
            "재귀함수\n",
            "재귀함수\n",
            "재귀함수\n",
            "재귀함수\n",
            "재귀함수\n",
            "재귀함수\n",
            "재귀함수\n",
            "재귀함수\n",
            "재귀함수\n",
            "재귀함수\n",
            "재귀함수\n",
            "재귀함수\n",
            "재귀함수\n",
            "재귀함수\n",
            "재귀함수\n",
            "재귀함수\n",
            "재귀함수\n",
            "재귀함수\n",
            "재귀함수\n",
            "재귀함수\n",
            "재귀함수\n",
            "재귀함수\n",
            "재귀함수\n",
            "재귀함수\n",
            "재귀함수\n",
            "재귀함수\n",
            "재귀함수\n",
            "재귀함수\n",
            "재귀함수\n",
            "재귀함수\n",
            "재귀함수\n",
            "재귀함수\n",
            "재귀함수\n",
            "재귀함수\n",
            "재귀함수\n",
            "재귀함수\n",
            "재귀함수\n",
            "재귀함수\n",
            "재귀함수\n",
            "재귀함수\n",
            "재귀함수\n",
            "재귀함수\n",
            "재귀함수\n",
            "재귀함수\n",
            "재귀함수\n",
            "재귀함수\n",
            "재귀함수\n",
            "재귀함수\n",
            "재귀함수\n",
            "재귀함수\n",
            "재귀함수\n",
            "재귀함수\n",
            "재귀함수\n",
            "재귀함수\n",
            "재귀함수\n",
            "재귀함수\n",
            "재귀함수\n",
            "재귀함수\n",
            "재귀함수\n",
            "재귀함수\n",
            "재귀함수\n",
            "재귀함수\n",
            "재귀함수\n",
            "재귀함수\n",
            "재귀함수\n",
            "재귀함수\n",
            "재귀함수\n",
            "재귀함수\n",
            "재귀함수\n",
            "재귀함수\n",
            "재귀함수\n",
            "재귀함수\n",
            "재귀함수\n",
            "재귀함수\n",
            "재귀함수\n",
            "재귀함수\n",
            "재귀함수\n",
            "재귀함수\n",
            "재귀함수\n",
            "재귀함수\n",
            "재귀함수\n",
            "재귀함수\n",
            "재귀함수\n",
            "재귀함수\n",
            "재귀함수\n",
            "재귀함수\n",
            "재귀함수\n",
            "재귀함수\n",
            "재귀함수\n",
            "재귀함수\n",
            "재귀함수\n",
            "재귀함수\n",
            "재귀함수\n",
            "재귀함수\n",
            "재귀함수\n",
            "재귀함수\n",
            "재귀함수\n",
            "재귀함수\n",
            "재귀함수\n",
            "재귀함수\n",
            "재귀함수\n",
            "재귀함수\n",
            "재귀함수\n",
            "재귀함수\n",
            "재귀함수\n",
            "재귀함수\n",
            "재귀함수\n",
            "재귀함수\n",
            "재귀함수\n",
            "재귀함수\n",
            "재귀함수\n",
            "재귀함수\n",
            "재귀함수\n",
            "재귀함수\n",
            "재귀함수\n",
            "재귀함수\n",
            "재귀함수\n",
            "재귀함수\n",
            "재귀함수\n",
            "재귀함수\n",
            "재귀함수\n",
            "재귀함수\n",
            "재귀함수\n",
            "재귀함수\n",
            "재귀함수\n",
            "재귀함수\n",
            "재귀함수\n",
            "재귀함수\n",
            "재귀함수\n",
            "재귀함수\n",
            "재귀함수\n",
            "재귀함수\n",
            "재귀함수\n",
            "재귀함수\n",
            "재귀함수\n",
            "재귀함수\n",
            "재귀함수\n",
            "재귀함수\n",
            "재귀함수\n",
            "재귀함수\n",
            "재귀함수\n",
            "재귀함수\n",
            "재귀함수\n",
            "재귀함수\n",
            "재귀함수\n",
            "재귀함수\n",
            "재귀함수\n",
            "재귀함수\n",
            "재귀함수\n",
            "재귀함수\n",
            "재귀함수\n",
            "재귀함수\n",
            "재귀함수\n",
            "재귀함수\n",
            "재귀함수\n",
            "재귀함수\n",
            "재귀함수\n",
            "재귀함수\n",
            "재귀함수\n",
            "재귀함수\n",
            "재귀함수\n",
            "재귀함수\n",
            "재귀함수\n",
            "재귀함수\n",
            "재귀함수\n",
            "재귀함수\n",
            "재귀함수\n",
            "재귀함수\n",
            "재귀함수\n",
            "재귀함수\n",
            "재귀함수\n",
            "재귀함수\n",
            "재귀함수\n",
            "재귀함수\n",
            "재귀함수\n",
            "재귀함수\n",
            "재귀함수\n",
            "재귀함수\n",
            "재귀함수\n",
            "재귀함수\n",
            "재귀함수\n",
            "재귀함수\n",
            "재귀함수\n",
            "재귀함수\n",
            "재귀함수\n",
            "재귀함수\n",
            "재귀함수\n",
            "재귀함수\n",
            "재귀함수\n",
            "재귀함수\n",
            "재귀함수\n",
            "재귀함수\n",
            "재귀함수\n",
            "재귀함수\n",
            "재귀함수\n",
            "재귀함수\n",
            "재귀함수\n",
            "재귀함수\n",
            "재귀함수\n",
            "재귀함수\n",
            "재귀함수\n",
            "재귀함수\n",
            "재귀함수\n"
          ]
        },
        {
          "output_type": "error",
          "ename": "RecursionError",
          "evalue": "ignored",
          "traceback": [
            "\u001b[0;31m---------------------------------------------------------------------------\u001b[0m",
            "\u001b[0;31mRecursionError\u001b[0m                            Traceback (most recent call last)",
            "\u001b[0;32m<ipython-input-9-2a116ca74d39>\u001b[0m in \u001b[0;36m<module>\u001b[0;34m()\u001b[0m\n\u001b[1;32m      3\u001b[0m   \u001b[0mrecursive_function\u001b[0m\u001b[0;34m(\u001b[0m\u001b[0;34m)\u001b[0m\u001b[0;34m\u001b[0m\u001b[0;34m\u001b[0m\u001b[0m\n\u001b[1;32m      4\u001b[0m \u001b[0;34m\u001b[0m\u001b[0m\n\u001b[0;32m----> 5\u001b[0;31m \u001b[0mrecursive_function\u001b[0m\u001b[0;34m(\u001b[0m\u001b[0;34m)\u001b[0m\u001b[0;34m\u001b[0m\u001b[0;34m\u001b[0m\u001b[0m\n\u001b[0m",
            "\u001b[0;32m<ipython-input-9-2a116ca74d39>\u001b[0m in \u001b[0;36mrecursive_function\u001b[0;34m()\u001b[0m\n\u001b[1;32m      1\u001b[0m \u001b[0;32mdef\u001b[0m \u001b[0mrecursive_function\u001b[0m\u001b[0;34m(\u001b[0m\u001b[0;34m)\u001b[0m\u001b[0;34m:\u001b[0m\u001b[0;34m\u001b[0m\u001b[0;34m\u001b[0m\u001b[0m\n\u001b[1;32m      2\u001b[0m   \u001b[0mprint\u001b[0m\u001b[0;34m(\u001b[0m\u001b[0;34m'재귀함수'\u001b[0m\u001b[0;34m)\u001b[0m\u001b[0;34m\u001b[0m\u001b[0;34m\u001b[0m\u001b[0m\n\u001b[0;32m----> 3\u001b[0;31m   \u001b[0mrecursive_function\u001b[0m\u001b[0;34m(\u001b[0m\u001b[0;34m)\u001b[0m\u001b[0;34m\u001b[0m\u001b[0;34m\u001b[0m\u001b[0m\n\u001b[0m\u001b[1;32m      4\u001b[0m \u001b[0;34m\u001b[0m\u001b[0m\n\u001b[1;32m      5\u001b[0m \u001b[0mrecursive_function\u001b[0m\u001b[0;34m(\u001b[0m\u001b[0;34m)\u001b[0m\u001b[0;34m\u001b[0m\u001b[0;34m\u001b[0m\u001b[0m\n",
            "... last 1 frames repeated, from the frame below ...\n",
            "\u001b[0;32m<ipython-input-9-2a116ca74d39>\u001b[0m in \u001b[0;36mrecursive_function\u001b[0;34m()\u001b[0m\n\u001b[1;32m      1\u001b[0m \u001b[0;32mdef\u001b[0m \u001b[0mrecursive_function\u001b[0m\u001b[0;34m(\u001b[0m\u001b[0;34m)\u001b[0m\u001b[0;34m:\u001b[0m\u001b[0;34m\u001b[0m\u001b[0;34m\u001b[0m\u001b[0m\n\u001b[1;32m      2\u001b[0m   \u001b[0mprint\u001b[0m\u001b[0;34m(\u001b[0m\u001b[0;34m'재귀함수'\u001b[0m\u001b[0;34m)\u001b[0m\u001b[0;34m\u001b[0m\u001b[0;34m\u001b[0m\u001b[0m\n\u001b[0;32m----> 3\u001b[0;31m   \u001b[0mrecursive_function\u001b[0m\u001b[0;34m(\u001b[0m\u001b[0;34m)\u001b[0m\u001b[0;34m\u001b[0m\u001b[0;34m\u001b[0m\u001b[0m\n\u001b[0m\u001b[1;32m      4\u001b[0m \u001b[0;34m\u001b[0m\u001b[0m\n\u001b[1;32m      5\u001b[0m \u001b[0mrecursive_function\u001b[0m\u001b[0;34m(\u001b[0m\u001b[0;34m)\u001b[0m\u001b[0;34m\u001b[0m\u001b[0;34m\u001b[0m\u001b[0m\n",
            "\u001b[0;31mRecursionError\u001b[0m: maximum recursion depth exceeded while calling a Python object"
          ]
        }
      ]
    },
    {
      "cell_type": "markdown",
      "source": [
        "위와 같이 하면 오류가 뜸. 재귀의 최대 깊이를 초과했다는 내용 -> 파이썬 인터프리터는 호출 횟수 제한이 있으므로 이를 벗어나면 오류 메세지 출력\n",
        "\n",
        "이는 재귀 함수의 종료 조건을 안 적어줬기 때문!"
      ],
      "metadata": {
        "id": "0vcJqoTBbD-1"
      }
    },
    {
      "cell_type": "markdown",
      "source": [
        "여기 약간 이해가 안됨..."
      ],
      "metadata": {
        "id": "zBqQoFu7dkpW"
      }
    },
    {
      "cell_type": "code",
      "source": [
        "def recursive_function(i):\n",
        "  if i == 5:\n",
        "    return\n",
        "  print(f\"{i}번째 재귀 함수에서 {i + 1}번째 재귀 함수를 호출합니다.\")\n",
        "  recursive_function(i + 1)\n",
        "  print(f\"{i}번째 재귀 함수를 종료합니다.\")\n",
        "\n",
        "recursive_function(1)"
      ],
      "metadata": {
        "colab": {
          "base_uri": "https://localhost:8080/"
        },
        "id": "Y41xOx3lbd-P",
        "outputId": "3035bd95-7c93-491a-eacc-b9efdf87e2d8"
      },
      "execution_count": 11,
      "outputs": [
        {
          "output_type": "stream",
          "name": "stdout",
          "text": [
            "1번째 재귀 함수에서 2번째 재귀 함수를 호출합니다.\n",
            "2번째 재귀 함수에서 3번째 재귀 함수를 호출합니다.\n",
            "3번째 재귀 함수에서 4번째 재귀 함수를 호출합니다.\n",
            "4번째 재귀 함수에서 5번째 재귀 함수를 호출합니다.\n",
            "4번째 재귀 함수를 종료합니다.\n",
            "3번째 재귀 함수를 종료합니다.\n",
            "2번째 재귀 함수를 종료합니다.\n",
            "1번째 재귀 함수를 종료합니다.\n"
          ]
        }
      ]
    },
    {
      "cell_type": "markdown",
      "source": [
        "재귀 함수는 재부적으로 스택 자료구조와 동일함. 따라서 스택 자료구조를 활용해야하는 상당수 알고리즘은 재귀 함수를 이용해서 간편하게 구현될 수 있다. DFS가 대표적인 예!\n",
        "\n",
        "재귀 함수를 사용하는 대표적인 예제로는 팩토리얼 문제가 있음."
      ],
      "metadata": {
        "id": "3xgavyFkdmOj"
      }
    },
    {
      "cell_type": "code",
      "source": [
        "# 반복적으로 구현한 n!\n",
        "\n",
        "def factorial_iterative(n):\n",
        "  result = 1\n",
        "  while True:\n",
        "    if n == 1:\n",
        "      break\n",
        "    result *= n\n",
        "    n -= 1\n",
        "  return result\n",
        "print(factorial_iterative(5))"
      ],
      "metadata": {
        "colab": {
          "base_uri": "https://localhost:8080/"
        },
        "id": "z981x1IUiEPJ",
        "outputId": "3e2d4d26-69fd-439e-cc5a-e488a449e4f6"
      },
      "execution_count": 14,
      "outputs": [
        {
          "output_type": "stream",
          "name": "stdout",
          "text": [
            "120\n"
          ]
        }
      ]
    },
    {
      "cell_type": "code",
      "source": [
        "# 재귀적으로 구현한 n!\n",
        "\n",
        "def factorial_iterative(n):\n",
        "  if n == 1:\n",
        "    return 1\n",
        "  \n",
        "  factorial_iterative(n-1)\n",
        "\n",
        "factorial_iterative(3)"
      ],
      "metadata": {
        "id": "rwLiM3tAi-Pq"
      },
      "execution_count": null,
      "outputs": []
    },
    {
      "cell_type": "markdown",
      "source": [
        ""
      ],
      "metadata": {
        "id": "C3t4KFz0iDuU"
      }
    }
  ]
}