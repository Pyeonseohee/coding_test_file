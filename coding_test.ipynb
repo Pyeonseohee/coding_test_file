{
  "nbformat": 4,
  "nbformat_minor": 0,
  "metadata": {
    "colab": {
      "name": "coding_test.ipynb",
      "provenance": [],
      "collapsed_sections": [],
      "authorship_tag": "ABX9TyMvstFB8eDwE4F93j/3mR8E",
      "include_colab_link": true
    },
    "kernelspec": {
      "name": "python3",
      "display_name": "Python 3"
    },
    "language_info": {
      "name": "python"
    }
  },
  "cells": [
    {
      "cell_type": "markdown",
      "metadata": {
        "id": "view-in-github",
        "colab_type": "text"
      },
      "source": [
        "<a href=\"https://colab.research.google.com/github/Pyeonseohee/coding_test_file/blob/main/coding_test.ipynb\" target=\"_parent\"><img src=\"https://colab.research.google.com/assets/colab-badge.svg\" alt=\"Open In Colab\"/></a>"
      ]
    },
    {
      "cell_type": "markdown",
      "source": [
        "# 이것이 취업을 위한 코딩테스트이다 with Python\n"
      ],
      "metadata": {
        "id": "Pk9F4E43yVV4"
      }
    },
    {
      "cell_type": "markdown",
      "source": [
        "# **Chapter 01**\n",
        "#### **코딩 테스트, 무엇을 어떻게 준비할까?**"
      ],
      "metadata": {
        "id": "Qd4YvuOV-TWs"
      }
    },
    {
      "cell_type": "markdown",
      "source": [
        "- 코딩 테스트 플랫폼: Codeup(코드업), BOJ(백준 온라인 저지), Programmers(프로그래머스), SW Expert Academy(SW 익스퍼트 아카데미)\n",
        "\n",
        "- 온라인 개발 환경: Repl.it(리플릿), Python Tutor(파이썬 튜터-> 소스코드가 실행하는 동안 메모리에 데이터가 어떻게 부여되는지를 시각적으로 보여줌), Online GDB(온라인 GDB-> 디버깅 기능을 제공하는 사이트이므로 C, C++ 사용자가 많이 사용.)"
      ],
      "metadata": {
        "id": "NK9Mt1FGBI_n"
      }
    },
    {
      "cell_type": "markdown",
      "source": [
        "# 복잡도(Complexity)\n",
        ": 알고리즘의 성능을 나타내는 척도. 시간 복잡도와 공간 복잡도로 나뉨.\n",
        "- 시간 복잡도: 특정한 크기의 입력에 대하여 알고리즘이 얼마나 오래 걸리는지를 의미 -> 알고리즘을 위해 필요한 연산의 횟수.\n",
        "- 공간 복잡도: 특정한 크기의 입력에 대하여 알고리즘이 얼마나 많은 메모리를 차지하는지 의미 -> 알고리즘을 위해 필요한 메모리의 양\n",
        "\n",
        "동일한 기능을 수행하는 알고리즘이 있다면 일반적으로 복잡도가 낮을수록 좋은 알고리즘. 둘은 일종의 거래 관계(Trade-off)가 성립.\n",
        "\n",
        "실제로 메모리를 더 많이 사용해 시간을 비약적으로 줄이는 메모이제이션(Memoization) 기법이 있음."
      ],
      "metadata": {
        "id": "qSHPM_YdHMuw"
      }
    },
    {
      "cell_type": "markdown",
      "source": [
        "## 시간복잡도\n",
        "\n",
        "코딩 테스트에서 제한 시간은 '작성한 프로그램이 모든 입력을 받아 이를 처리하고 실행 결과를 출력하는 데까지 걸리는 시간.\n",
        "\n",
        "시간복잡도를 표현할 때는 빅오(Big-O) 표기법을 사용.\n",
        "- 빅오(Big-O) 란?\n",
        ": 가장 빠르게 증가하는 항만을 고려하는 표기법. 다시 말해 함수의 상한만을 나타냄.\n",
        "즉, 가장 영향력이 큰 부분을 고려하는 방법. like 함수 극한 느낌(최고차항)"
      ],
      "metadata": {
        "id": "FX5x_eW5OCIB"
      }
    },
    {
      "cell_type": "code",
      "source": [
        "array = [3, 5, 1, 2, 4] # 5개의 데이터(N = 5)\n",
        "\n",
        "sum = 0 # 합계를 저장할 변수\n",
        "\n",
        "# 변수를 할당할 때 연산이 들어가지만, 데이터의 개수가 많아질수록 그 수는 미미해짐. 따라서 여기서 시간복잡도는 O(N)\n",
        "for i in array:\n",
        "  sum += i\n",
        "\n",
        "print(sum)"
      ],
      "metadata": {
        "colab": {
          "base_uri": "https://localhost:8080/"
        },
        "id": "7QwoJ88sQsZu",
        "outputId": "fe6c89d5-6f8d-40de-977e-5f2044d0a5dd"
      },
      "execution_count": 1,
      "outputs": [
        {
          "output_type": "stream",
          "name": "stdout",
          "text": [
            "15\n"
          ]
        }
      ]
    },
    {
      "cell_type": "code",
      "source": [
        "a = 5\n",
        "b = 7\n",
        "print(a + b)\n",
        "# a와 b값을 대입, 출력하는 연산 무시하고 보면 여기서 연산횟수는 1임. 이는 상수연산이므로 시간 복잡도는 O(1)"
      ],
      "metadata": {
        "colab": {
          "base_uri": "https://localhost:8080/"
        },
        "id": "b3B3uieAt8OZ",
        "outputId": "b61b4ad8-be81-4fb2-8546-4c7c1abd4efc"
      },
      "execution_count": 2,
      "outputs": [
        {
          "output_type": "stream",
          "name": "stdout",
          "text": [
            "12\n"
          ]
        }
      ]
    },
    {
      "cell_type": "code",
      "source": [
        "array = [3, 5, 1, 2, 4]\n",
        "\n",
        "temp = 0\n",
        "for i in array:\n",
        "  for j in array:\n",
        "    temp = i * j\n",
        "    print(temp)\n",
        "\n",
        "# 이 경우 시간 복잡도는 O(N^2)\n",
        "# 코딩 테스트에서 최악의 경우에 대한 연산 횟수가 가장 중요. 그러므로 최악의 경우의 시간 복잡도 먼저 계산해야함."
      ],
      "metadata": {
        "colab": {
          "base_uri": "https://localhost:8080/"
        },
        "id": "UnTTLMCZuCKx",
        "outputId": "e8b3b9ea-892e-44c3-8ea6-3a0c665945a1"
      },
      "execution_count": 4,
      "outputs": [
        {
          "output_type": "stream",
          "name": "stdout",
          "text": [
            "9\n",
            "15\n",
            "3\n",
            "6\n",
            "12\n",
            "15\n",
            "25\n",
            "5\n",
            "10\n",
            "20\n",
            "3\n",
            "5\n",
            "1\n",
            "2\n",
            "4\n",
            "6\n",
            "10\n",
            "2\n",
            "4\n",
            "8\n",
            "12\n",
            "20\n",
            "4\n",
            "8\n",
            "16\n"
          ]
        }
      ]
    },
    {
      "cell_type": "markdown",
      "source": [
        "### 시간 복잡도 표(--------- if N = 1000)\n",
        "\n",
        "- O(1): 상수 시간 \n",
        "- O(logN): 로그 시간\n",
        "- O(N): 선형 시간 ------------- 1,000\n",
        "- O(NlogN): 로그 선형 시간----- 10,000\n",
        "- O(N^2): 이차 시간------------ 1,000,000\n",
        "- O(N^3): 삼차 시간------------ 1,000,000,000\n",
        "- O(2^n): 지수 시간\n",
        "\n",
        "이때 코딩테스트에서 연산 차수가 작은 항들을 배제해서는 안됨. 따라서 빅오 표기법이 항상 절대적인 것만은 아님!\n",
        "\n",
        "연산에는 비교, 사칙, 대입연산자 등이 있음."
      ],
      "metadata": {
        "id": "HyRzUVAKv2uN"
      }
    },
    {
      "cell_type": "markdown",
      "source": [
        "알고리즘 문제를 풀때 꿀팁!\n",
        "문제를 풀기 전 문제의 조건들을 확인하면 얼마나 효율적인 알고리즘을 작성해야하는지 눈치챌 수 있음! -> 데이터의 개수와 시간 제한을 통해 '이 문제는 O(?)의 시간 복잡도를 가지는 알고리즘을 작성해야겠다'와 같은 사고를 이끌어 내야 함!!\n",
        "\n",
        "- 제한 시간이 1초일 때\n",
        "1. N의 범위가 500인 경우: 시간 복잡도가 O(N^3)인 알고리즘 설계하면 풀 수 있음.\n",
        "2. N = 2,000: O(N^2)\n",
        "3. N = 100,000: O(NlogN)\n",
        "4. N = 10,000,000: O(N)\n"
      ],
      "metadata": {
        "id": "ekKVfnT_xfTy"
      }
    },
    {
      "cell_type": "markdown",
      "source": [
        "## 공간 복잡도\n",
        "코딩 테스트에서 보통 메모리 사용량을 128~512MB 정도로 제한. 이 말은 즉슨, 데이터의 개수가 1,000만 단위가 넘어가지 않도록 알고리즘을 설계해야함."
      ],
      "metadata": {
        "id": "aEqJxCFS4FfL"
      }
    },
    {
      "cell_type": "markdown",
      "source": [
        "### 시간과 메모리 측정\n",
        "파이썬에서는 프로그램 수행 시간과 메모리 사용량을 측정할 수 있음."
      ],
      "metadata": {
        "id": "aJcKn-jl4qJO"
      }
    },
    {
      "cell_type": "code",
      "source": [
        "# 수행 시간 측정 소스코드\n",
        "\n",
        "import time\n",
        "start_time = time.time() # 측정 시작\n",
        "\n",
        "end_time = time.time() # 측정 종료\n",
        "print(\"time: \", end_time - start_time) # 수행 시간 출력"
      ],
      "metadata": {
        "colab": {
          "base_uri": "https://localhost:8080/"
        },
        "id": "Hxjs8AkY4ptG",
        "outputId": "11064de8-d4d9-4ccb-956c-fdf1973a5bd2"
      },
      "execution_count": 5,
      "outputs": [
        {
          "output_type": "stream",
          "name": "stdout",
          "text": [
            "time:  6.532669067382812e-05\n"
          ]
        }
      ]
    },
    {
      "cell_type": "code",
      "source": [
        "# 선택 정렬과 기본 정렬 라이브러리 수행 시간 비교\n",
        "\n",
        "import time\n",
        "from random import randint\n",
        "array = []\n",
        "\n",
        "# 배열에 10,000개의 정수 삽입.\n",
        "for _ in range(10000):\n",
        "  array.append(randint(1, 100)) # 1부터 100사이의 랜덤한 정수\n",
        "\n",
        "start = time.time()\n",
        "\n",
        "for i in range(len(array)):\n",
        "  min_index = i\n",
        "  for  j in range(i + 1, len(array)):\n",
        "    if array[min_index] > array[j]:\n",
        "      min_index = j\n",
        "    array[min_index], array[i] = array[i], array[min_index]\n",
        "\n",
        "end = time.time()\n",
        "print(\"선택 정렬의 시간 복잡도는\", end - start,\"입니다.\")\n",
        "\n",
        "array = [] # 배열 초기화\n",
        "for _ in range(10000):\n",
        "    array.append(randint(1, 100))\n",
        "\n",
        "start = time.time()\n",
        "\n",
        "array.sort()\n",
        "\n",
        "end = time.time()\n",
        "print(\"기본 정렬 라이브러리의 시간 복잡도는\", end- start, \"입니다.\")"
      ],
      "metadata": {
        "colab": {
          "base_uri": "https://localhost:8080/"
        },
        "id": "ld8qcPnt5EVK",
        "outputId": "4bf7bfb5-3325-41a4-c07a-57c0462cb4ce"
      },
      "execution_count": 6,
      "outputs": [
        {
          "output_type": "stream",
          "name": "stdout",
          "text": [
            "선택 정렬의 시간 복잡도는 19.88883924484253 입니다.\n",
            "기본 정렬 라이브러리의 시간 복잡도는 0.0012650489807128906 입니다.\n"
          ]
        }
      ]
    },
    {
      "cell_type": "markdown",
      "source": [
        "# **Chapter 02**\n",
        "\n",
        "####  **16~20년 코딩 테스트 기출 문제 유형 분석**"
      ],
      "metadata": {
        "id": "vQEqcd0h-ahX"
      }
    },
    {
      "cell_type": "markdown",
      "source": [
        "코딩 테스트는 *'문제 해결 능력'* 을 확인하는 시험!\n",
        "\n",
        "주로 기초 알고리즘에 기반하는 문제가 출제됨. 가장 출제 빈도 높은 문제는 그리디, 구현, DFS/BFS를 활용한 탐색 문제.\n",
        "\n",
        "국제 알고리즘 대회: 코드포스, ACM-ICPC 등등...\n",
        "\n",
        "시뮬레이션 프로그램을 직접 개발하는 문제도 출제됨. 이 문제는 알고리즘 역량을 벗어나 REST API, JSON 등의 원리에 대해 이해하고 있어야 해결가능.\n",
        "\n",
        "크롤링이나 데이터 정제, API 개발이 포함된 문제라면 파이썬이 훨씬 유리."
      ],
      "metadata": {
        "id": "gRnLW5qn_JeA"
      }
    },
    {
      "cell_type": "markdown",
      "source": [
        ""
      ],
      "metadata": {
        "id": "99Eeo1Az-uzM"
      }
    },
    {
      "cell_type": "code",
      "source": [
        ""
      ],
      "metadata": {
        "id": "4NbBiX33-I67"
      },
      "execution_count": null,
      "outputs": []
    },
    {
      "cell_type": "markdown",
      "source": [
        ""
      ],
      "metadata": {
        "id": "MJN1BH9TQsBE"
      }
    },
    {
      "cell_type": "markdown",
      "source": [
        "## chapter03 그리디"
      ],
      "metadata": {
        "id": "eIl990VJyeQ7"
      }
    },
    {
      "cell_type": "markdown",
      "source": [
        "그리디(Greedy) 알고리즘: 현재 상황에서 지금 당장 좋은 것만 고르는 방법\n",
        "대표적인 문제 예시는 거스름돈 돌려주기-> '가장 큰 화폐 단위부터' 돈을 거슬러 주면 됨."
      ],
      "metadata": {
        "id": "GGFJqqYlynKg"
      }
    },
    {
      "cell_type": "code",
      "execution_count": 1,
      "metadata": {
        "colab": {
          "base_uri": "https://localhost:8080/"
        },
        "id": "Q93vb7v2yS0R",
        "outputId": "c5af8754-a1f5-42d5-80e7-8e7b498a0b7f"
      },
      "outputs": [
        {
          "output_type": "stream",
          "name": "stdout",
          "text": [
            "6\n"
          ]
        }
      ],
      "source": [
        "# 거스름돈 문제\n",
        "# 동전 몇 개를 거슬러 주는지에 대한 문제\n",
        "\n",
        "n = 1260\n",
        "count = 0\n",
        "\n",
        "coin = [500, 100, 50, 10]\n",
        "\n",
        "for i in coin:\n",
        "  count += n // i\n",
        "  n %= i\n",
        "\n",
        "print(count)"
      ]
    },
    {
      "cell_type": "markdown",
      "source": [
        "화폐의 종류만큼 반복을 수행하므로 화폐의 종류가 K개이면 시간복잡도는 O(K)가 됨."
      ],
      "metadata": {
        "id": "1c1Ynu433KTB"
      }
    }
  ]
}